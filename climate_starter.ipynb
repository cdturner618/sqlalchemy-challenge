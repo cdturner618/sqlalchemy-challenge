{
 "cells": [
  {
   "cell_type": "code",
   "execution_count": 1,
   "metadata": {},
   "outputs": [],
   "source": [
    "%matplotlib inline\n",
    "from matplotlib import style\n",
    "style.use('fivethirtyeight')\n",
    "import matplotlib.pyplot as plt"
   ]
  },
  {
   "cell_type": "code",
   "execution_count": 2,
   "metadata": {},
   "outputs": [],
   "source": [
    "import numpy as np\n",
    "import pandas as pd\n",
    "import datetime as dt"
   ]
  },
  {
   "cell_type": "markdown",
   "metadata": {},
   "source": [
    "# Reflect Tables into SQLAlchemy ORM"
   ]
  },
  {
   "cell_type": "code",
   "execution_count": 3,
   "metadata": {},
   "outputs": [],
   "source": [
    "# Python SQL toolkit and Object Relational Mapper\n",
    "import sqlalchemy\n",
    "from sqlalchemy.ext.automap import automap_base\n",
    "from sqlalchemy.orm import Session\n",
    "from sqlalchemy import create_engine, func"
   ]
  },
  {
   "cell_type": "code",
   "execution_count": 4,
   "metadata": {},
   "outputs": [],
   "source": [
    "# create engine to hawaii.sqlite\n",
    "engine = create_engine(\"sqlite:///./Resources/hawaii.sqlite\")"
   ]
  },
  {
   "cell_type": "code",
   "execution_count": 5,
   "metadata": {},
   "outputs": [],
   "source": [
    "# reflect an existing database into a new model\n",
    "Base = automap_base()\n"
   ]
  },
  {
   "cell_type": "code",
   "execution_count": 6,
   "metadata": {},
   "outputs": [],
   "source": [
    "# reflect the tables\n",
    "Base.prepare(engine, reflect=True)"
   ]
  },
  {
   "cell_type": "code",
   "execution_count": 7,
   "metadata": {},
   "outputs": [
    {
     "data": {
      "text/plain": [
       "['measurement', 'station']"
      ]
     },
     "execution_count": 7,
     "metadata": {},
     "output_type": "execute_result"
    }
   ],
   "source": [
    "# View all of the classes that automap found\n",
    "Base.classes.keys()"
   ]
  },
  {
   "cell_type": "code",
   "execution_count": 8,
   "metadata": {},
   "outputs": [],
   "source": [
    "# Save references to each table\n",
    "Measurements= Base.classes.measurement\n",
    "Station= Base.classes.station"
   ]
  },
  {
   "cell_type": "code",
   "execution_count": 9,
   "metadata": {},
   "outputs": [],
   "source": [
    "# Create our session (link) from Python to the DB\n",
    "session = Session(engine)"
   ]
  },
  {
   "cell_type": "code",
   "execution_count": 10,
   "metadata": {},
   "outputs": [
    {
     "name": "stdout",
     "output_type": "stream",
     "text": [
      "{'_sa_instance_state': <sqlalchemy.orm.state.InstanceState object at 0x000001F525874CD0>, 'prcp': 0.08, 'station': 'USC00519397', 'tobs': 65.0, 'date': '2010-01-01', 'id': 1}\n",
      "{'_sa_instance_state': <sqlalchemy.orm.state.InstanceState object at 0x000001F525874E80>, 'prcp': 0.0, 'station': 'USC00519397', 'tobs': 63.0, 'date': '2010-01-02', 'id': 2}\n",
      "{'_sa_instance_state': <sqlalchemy.orm.state.InstanceState object at 0x000001F525874EB0>, 'prcp': 0.0, 'station': 'USC00519397', 'tobs': 74.0, 'date': '2010-01-03', 'id': 3}\n",
      "{'_sa_instance_state': <sqlalchemy.orm.state.InstanceState object at 0x000001F525874F10>, 'prcp': 0.0, 'station': 'USC00519397', 'tobs': 76.0, 'date': '2010-01-04', 'id': 4}\n",
      "{'_sa_instance_state': <sqlalchemy.orm.state.InstanceState object at 0x000001F525874F70>, 'prcp': None, 'station': 'USC00519397', 'tobs': 73.0, 'date': '2010-01-06', 'id': 5}\n"
     ]
    }
   ],
   "source": [
    "test= session.query(Measurements).limit(5).all()\n",
    "for test in test:\n",
    "     print(test.__dict__)"
   ]
  },
  {
   "cell_type": "code",
   "execution_count": 11,
   "metadata": {},
   "outputs": [
    {
     "name": "stdout",
     "output_type": "stream",
     "text": [
      "id INTEGER\n",
      "station TEXT\n",
      "date TEXT\n",
      "prcp FLOAT\n",
      "tobs FLOAT\n"
     ]
    }
   ],
   "source": [
    "from sqlalchemy import create_engine, inspect\n",
    "# Get a list of column names and types\n",
    "inspector = inspect(engine)\n",
    "columns = inspector.get_columns('measurement')\n",
    "for c in columns:\n",
    "    print(c['name'], c[\"type\"])"
   ]
  },
  {
   "cell_type": "code",
   "execution_count": 12,
   "metadata": {},
   "outputs": [
    {
     "name": "stdout",
     "output_type": "stream",
     "text": [
      "id INTEGER\n",
      "station TEXT\n",
      "name TEXT\n",
      "latitude FLOAT\n",
      "longitude FLOAT\n",
      "elevation FLOAT\n"
     ]
    }
   ],
   "source": [
    "columns1 = inspector.get_columns('station')\n",
    "for c in columns1:\n",
    "    print(c['name'], c[\"type\"])"
   ]
  },
  {
   "cell_type": "markdown",
   "metadata": {},
   "source": [
    "# Exploratory Precipitation Analysis"
   ]
  },
  {
   "cell_type": "code",
   "execution_count": 13,
   "metadata": {},
   "outputs": [
    {
     "data": {
      "text/plain": [
       "[(19550)]"
      ]
     },
     "execution_count": 13,
     "metadata": {},
     "output_type": "execute_result"
    }
   ],
   "source": [
    "# Find the most recent date in the data set.\n",
    "session.query(func.count(Measurements.date)).all()"
   ]
  },
  {
   "cell_type": "code",
   "execution_count": 15,
   "metadata": {},
   "outputs": [
    {
     "data": {
      "text/plain": [
       "('2010-01-01')"
      ]
     },
     "execution_count": 15,
     "metadata": {},
     "output_type": "execute_result"
    }
   ],
   "source": [
    "session.query(Measurements.date).order_by(Measurements.date).first()"
   ]
  },
  {
   "cell_type": "code",
   "execution_count": 45,
   "metadata": {},
   "outputs": [
    {
     "data": {
      "text/plain": [
       "('2017-08-23')"
      ]
     },
     "execution_count": 45,
     "metadata": {},
     "output_type": "execute_result"
    }
   ],
   "source": [
    "most_recent= session.query(Measurements.date).order_by(Measurements.date.desc()).first()\n",
    "most_recent"
   ]
  },
  {
   "cell_type": "code",
   "execution_count": 19,
   "metadata": {},
   "outputs": [
    {
     "name": "stdout",
     "output_type": "stream",
     "text": [
      "Query Date:  2016-08-23\n"
     ]
    }
   ],
   "source": [
    "# Design a query to retrieve the last 12 months of precipitation data and plot the results. \n",
    "# Starting from the most recent data point in the database. \n",
    "import datetime as dt\n",
    "# Calculate the date one year from the last date in data set.\n",
    "query_date = dt.date(2017, 8, 23) - dt.timedelta(days=365)\n",
    "print(\"Query Date: \", query_date)\n"
   ]
  },
  {
   "cell_type": "code",
   "execution_count": 78,
   "metadata": {},
   "outputs": [
    {
     "data": {
      "text/plain": [
       "[('USC00519397', '2016-08-23', 0.0, 81.0),\n",
       " ('USC00519397', '2016-08-24', 0.08, 79.0),\n",
       " ('USC00519397', '2016-08-25', 0.08, 80.0),\n",
       " ('USC00519397', '2016-08-26', 0.0, 79.0),\n",
       " ('USC00519397', '2016-08-27', 0.0, 77.0),\n",
       " ('USC00519397', '2016-08-28', 0.01, 78.0),\n",
       " ('USC00519397', '2016-08-29', 0.0, 78.0),\n",
       " ('USC00519397', '2016-08-30', 0.0, 79.0),\n",
       " ('USC00519397', '2016-08-31', 0.13, 80.0),\n",
       " ('USC00519397', '2016-09-01', 0.0, 81.0),\n",
       " ('USC00519397', '2016-09-02', 0.0, 80.0),\n",
       " ('USC00519397', '2016-09-03', 0.0, 79.0),\n",
       " ('USC00519397', '2016-09-04', 0.03, 75.0),\n",
       " ('USC00519397', '2016-09-05', None, 79.0),\n",
       " ('USC00519397', '2016-09-06', None, 76.0),\n",
       " ('USC00519397', '2016-09-07', 0.05, 76.0),\n",
       " ('USC00519397', '2016-09-08', 0.0, 80.0),\n",
       " ('USC00519397', '2016-09-09', 0.03, 79.0),\n",
       " ('USC00519397', '2016-09-10', 0.0, 78.0),\n",
       " ('USC00519397', '2016-09-11', 0.05, 76.0),\n",
       " ('USC00519397', '2016-09-12', 0.0, 78.0),\n",
       " ('USC00519397', '2016-09-13', 0.02, 78.0),\n",
       " ('USC00519397', '2016-09-14', 1.32, 75.0),\n",
       " ('USC00519397', '2016-09-15', 0.42, 79.0),\n",
       " ('USC00519397', '2016-09-16', 0.06, 80.0),\n",
       " ('USC00519397', '2016-09-17', 0.05, 79.0),\n",
       " ('USC00519397', '2016-09-18', 0.0, 81.0),\n",
       " ('USC00519397', '2016-09-19', 0.0, 77.0),\n",
       " ('USC00519397', '2016-09-20', 0.0, 77.0),\n",
       " ('USC00519397', '2016-09-21', 0.0, 78.0),\n",
       " ('USC00519397', '2016-09-22', 0.02, 76.0),\n",
       " ('USC00519397', '2016-09-23', 0.0, 82.0),\n",
       " ('USC00519397', '2016-09-24', 0.0, 81.0),\n",
       " ('USC00519397', '2016-09-25', 0.0, 78.0),\n",
       " ('USC00519397', '2016-09-26', 0.06, 80.0),\n",
       " ('USC00519397', '2016-09-27', 0.02, 80.0),\n",
       " ('USC00519397', '2016-09-28', 0.0, 79.0),\n",
       " ('USC00519397', '2016-09-29', 0.0, 80.0),\n",
       " ('USC00519397', '2016-09-30', 0.0, 80.0),\n",
       " ('USC00519397', '2016-10-01', 0.0, 80.0),\n",
       " ('USC00519397', '2016-10-02', 0.0, 79.0),\n",
       " ('USC00519397', '2016-10-03', 0.0, 79.0),\n",
       " ('USC00519397', '2016-10-04', 0.0, 79.0),\n",
       " ('USC00519397', '2016-10-05', 0.0, 80.0),\n",
       " ('USC00519397', '2016-10-06', 0.0, 80.0),\n",
       " ('USC00519397', '2016-10-07', 0.0, 79.0),\n",
       " ('USC00519397', '2016-10-08', 0.0, 78.0),\n",
       " ('USC00519397', '2016-10-09', 0.0, 76.0),\n",
       " ('USC00519397', '2016-10-10', 0.0, 75.0),\n",
       " ('USC00519397', '2016-10-11', 0.0, 80.0),\n",
       " ('USC00519397', '2016-10-12', 0.0, 80.0),\n",
       " ('USC00519397', '2016-10-13', 0.0, 79.0),\n",
       " ('USC00519397', '2016-10-14', 0.0, 80.0),\n",
       " ('USC00519397', '2016-10-15', 0.0, 79.0),\n",
       " ('USC00519397', '2016-10-16', 0.0, 78.0),\n",
       " ('USC00519397', '2016-10-17', 0.01, 78.0),\n",
       " ('USC00519397', '2016-10-18', 0.0, 80.0),\n",
       " ('USC00519397', '2016-10-19', 0.0, 81.0),\n",
       " ('USC00519397', '2016-10-20', 0.0, 79.0),\n",
       " ('USC00519397', '2016-10-21', 0.05, 77.0),\n",
       " ('USC00519397', '2016-10-22', 0.15, 79.0),\n",
       " ('USC00519397', '2016-10-23', 0.01, 78.0),\n",
       " ('USC00519397', '2016-10-24', 0.0, 77.0),\n",
       " ('USC00519397', '2016-10-25', 0.03, 77.0),\n",
       " ('USC00519397', '2016-10-26', 0.0, 78.0),\n",
       " ('USC00519397', '2016-10-27', 0.0, 77.0),\n",
       " ('USC00519397', '2016-10-28', 0.0, 78.0),\n",
       " ('USC00519397', '2016-10-29', 0.0, 77.0),\n",
       " ('USC00519397', '2016-10-30', 0.24, 76.0),\n",
       " ('USC00519397', '2016-10-31', 0.03, 77.0),\n",
       " ('USC00519397', '2016-11-01', 0.0, 77.0),\n",
       " ('USC00519397', '2016-11-02', 0.0, 77.0),\n",
       " ('USC00519397', '2016-11-03', 0.0, 77.0),\n",
       " ('USC00519397', '2016-11-04', 0.0, 77.0),\n",
       " ('USC00519397', '2016-11-05', 0.0, 76.0),\n",
       " ('USC00519397', '2016-11-06', 0.0, 75.0),\n",
       " ('USC00519397', '2016-11-07', 0.0, 71.0),\n",
       " ('USC00519397', '2016-11-08', 0.07, 71.0),\n",
       " ('USC00519397', '2016-11-09', 0.0, 71.0),\n",
       " ('USC00519397', '2016-11-10', 0.0, 71.0),\n",
       " ('USC00519397', '2016-11-11', 0.0, 72.0),\n",
       " ('USC00519397', '2016-11-12', 0.0, 71.0),\n",
       " ('USC00519397', '2016-11-13', 0.0, 72.0),\n",
       " ('USC00519397', '2016-11-14', 0.0, 77.0),\n",
       " ('USC00519397', '2016-11-15', 0.0, 77.0),\n",
       " ('USC00519397', '2016-11-16', 0.0, 77.0),\n",
       " ('USC00519397', '2016-11-17', 0.0, 77.0),\n",
       " ('USC00519397', '2016-11-18', 0.0, 77.0),\n",
       " ('USC00519397', '2016-11-19', 0.03, 75.0),\n",
       " ('USC00519397', '2016-11-20', 0.05, 76.0),\n",
       " ('USC00519397', '2016-11-21', 0.01, 76.0),\n",
       " ('USC00519397', '2016-11-22', 0.13, 75.0),\n",
       " ('USC00519397', '2016-11-23', 0.14, 72.0),\n",
       " ('USC00519397', '2016-11-24', 0.05, 74.0),\n",
       " ('USC00519397', '2016-11-25', 0.05, 75.0),\n",
       " ('USC00519397', '2016-11-26', 0.05, 73.0),\n",
       " ('USC00519397', '2016-11-27', 0.0, 76.0),\n",
       " ('USC00519397', '2016-11-28', 0.01, 75.0),\n",
       " ('USC00519397', '2016-11-29', 0.0, 68.0),\n",
       " ('USC00519397', '2016-11-30', 0.14, 75.0),\n",
       " ('USC00519397', '2016-12-01', 0.12, 75.0),\n",
       " ('USC00519397', '2016-12-02', 0.03, 72.0),\n",
       " ('USC00519397', '2016-12-03', 0.0, 69.0),\n",
       " ('USC00519397', '2016-12-04', 0.03, 71.0),\n",
       " ('USC00519397', '2016-12-05', 0.43, 68.0),\n",
       " ('USC00519397', '2016-12-06', 0.02, 67.0),\n",
       " ('USC00519397', '2016-12-07', 0.0, 69.0),\n",
       " ('USC00519397', '2016-12-08', 0.03, 73.0),\n",
       " ('USC00519397', '2016-12-09', 0.52, 70.0),\n",
       " ('USC00519397', '2016-12-10', 0.05, 70.0),\n",
       " ('USC00519397', '2016-12-11', 0.04, 70.0),\n",
       " ('USC00519397', '2016-12-12', 0.01, 66.0),\n",
       " ('USC00519397', '2016-12-13', 0.05, 67.0),\n",
       " ('USC00519397', '2016-12-14', 0.03, 70.0),\n",
       " ('USC00519397', '2016-12-15', 0.0, 66.0),\n",
       " ('USC00519397', '2016-12-16', 0.0, 62.0),\n",
       " ('USC00519397', '2016-12-17', 0.01, 71.0),\n",
       " ('USC00519397', '2016-12-18', 0.13, 73.0),\n",
       " ('USC00519397', '2016-12-19', 0.01, 69.0),\n",
       " ('USC00519397', '2016-12-20', 0.0, 77.0),\n",
       " ('USC00519397', '2016-12-21', 0.0, 74.0),\n",
       " ('USC00519397', '2016-12-22', 0.01, 71.0),\n",
       " ('USC00519397', '2016-12-23', 0.01, 72.0),\n",
       " ('USC00519397', '2016-12-24', 0.01, 74.0),\n",
       " ('USC00519397', '2016-12-25', 0.0, 74.0),\n",
       " ('USC00519397', '2016-12-26', 0.02, 74.0),\n",
       " ('USC00519397', '2016-12-27', 0.0, 74.0),\n",
       " ('USC00519397', '2016-12-28', 0.02, 71.0),\n",
       " ('USC00519397', '2016-12-29', 0.04, 73.0),\n",
       " ('USC00519397', '2016-12-30', 0.12, 69.0),\n",
       " ('USC00519397', '2016-12-31', 0.01, 66.0),\n",
       " ('USC00519397', '2017-01-01', 0.0, 62.0),\n",
       " ('USC00519397', '2017-01-02', 0.0, 66.0),\n",
       " ('USC00519397', '2017-01-03', 0.0, 63.0),\n",
       " ('USC00519397', '2017-01-04', 0.0, 62.0),\n",
       " ('USC00519397', '2017-01-05', 0.0, 63.0),\n",
       " ('USC00519397', '2017-01-06', 0.0, 64.0),\n",
       " ('USC00519397', '2017-01-07', 0.0, 66.0),\n",
       " ('USC00519397', '2017-01-08', 0.0, 60.0),\n",
       " ('USC00519397', '2017-01-09', 0.0, 64.0),\n",
       " ('USC00519397', '2017-01-10', 0.0, 63.0),\n",
       " ('USC00519397', '2017-01-11', 0.0, 78.0),\n",
       " ('USC00519397', '2017-01-12', 0.0, 67.0),\n",
       " ('USC00519397', '2017-01-13', 0.0, 67.0),\n",
       " ('USC00519397', '2017-01-14', 0.0, 65.0),\n",
       " ('USC00519397', '2017-01-15', 0.0, 66.0),\n",
       " ('USC00519397', '2017-01-16', 0.0, 67.0),\n",
       " ('USC00519397', '2017-01-17', 0.0, 66.0),\n",
       " ('USC00519397', '2017-01-18', 0.0, 72.0),\n",
       " ('USC00519397', '2017-01-19', 0.0, 73.0),\n",
       " ('USC00519397', '2017-01-20', 0.0, 71.0),\n",
       " ('USC00519397', '2017-01-21', 0.0, 72.0),\n",
       " ('USC00519397', '2017-01-22', 0.16, 72.0),\n",
       " ('USC00519397', '2017-01-23', 0.0, 72.0),\n",
       " ('USC00519397', '2017-01-24', 0.04, 69.0),\n",
       " ('USC00519397', '2017-01-25', 0.03, 72.0),\n",
       " ('USC00519397', '2017-01-26', 0.0, 71.0),\n",
       " ('USC00519397', '2017-01-27', 0.0, 65.0),\n",
       " ('USC00519397', '2017-01-28', 0.0, 64.0),\n",
       " ('USC00519397', '2017-01-29', 0.18, 67.0),\n",
       " ('USC00519397', '2017-01-30', 0.0, 67.0),\n",
       " ('USC00519397', '2017-01-31', 0.0, 68.0),\n",
       " ('USC00519397', '2017-02-01', 0.0, 70.0),\n",
       " ('USC00519397', '2017-02-02', 0.0, 61.0),\n",
       " ('USC00519397', '2017-02-03', 0.0, 65.0),\n",
       " ('USC00519397', '2017-02-04', 0.0, 72.0),\n",
       " ('USC00519397', '2017-02-05', 0.0, 73.0),\n",
       " ('USC00519397', '2017-02-06', 0.0, 76.0),\n",
       " ('USC00519397', '2017-02-07', 0.51, 64.0),\n",
       " ('USC00519397', '2017-02-08', 0.0, 62.0),\n",
       " ('USC00519397', '2017-02-09', 0.0, 61.0),\n",
       " ('USC00519397', '2017-02-10', 0.0, 71.0),\n",
       " ('USC00519397', '2017-02-11', 0.31, 69.0),\n",
       " ('USC00519397', '2017-02-12', 2.62, 68.0),\n",
       " ('USC00519397', '2017-02-13', 0.01, 74.0),\n",
       " ('USC00519397', '2017-02-14', 0.0, 75.0),\n",
       " ('USC00519397', '2017-02-15', 0.0, 75.0),\n",
       " ('USC00519397', '2017-02-16', 0.07, 71.0),\n",
       " ('USC00519397', '2017-02-17', 0.0, 71.0),\n",
       " ('USC00519397', '2017-02-18', 0.0, 68.0),\n",
       " ('USC00519397', '2017-02-19', 0.0, 69.0),\n",
       " ('USC00519397', '2017-02-20', 0.0, 71.0),\n",
       " ('USC00519397', '2017-02-21', 0.06, 70.0),\n",
       " ('USC00519397', '2017-02-22', 0.06, 72.0),\n",
       " ('USC00519397', '2017-02-23', 0.01, 74.0),\n",
       " ('USC00519397', '2017-02-24', 0.0, 70.0),\n",
       " ('USC00519397', '2017-02-25', 0.03, 64.0),\n",
       " ('USC00519397', '2017-02-26', 0.0, 65.0),\n",
       " ('USC00519397', '2017-02-27', 0.0, 72.0),\n",
       " ('USC00519397', '2017-02-28', 0.0, 74.0),\n",
       " ('USC00519397', '2017-03-01', 1.19, 66.0),\n",
       " ('USC00519397', '2017-03-02', 0.73, 73.0),\n",
       " ('USC00519397', '2017-03-03', 0.47, 69.0),\n",
       " ('USC00519397', '2017-03-04', 0.0, 74.0),\n",
       " ('USC00519397', '2017-03-05', 0.35, 71.0),\n",
       " ('USC00519397', '2017-03-06', 0.0, 69.0),\n",
       " ('USC00519397', '2017-03-07', 0.0, 68.0),\n",
       " ('USC00519397', '2017-03-08', 0.0, 71.0),\n",
       " ('USC00519397', '2017-03-09', 0.0, 72.0),\n",
       " ('USC00519397', '2017-03-10', 0.0, 68.0),\n",
       " ('USC00519397', '2017-03-11', 0.0, 71.0),\n",
       " ('USC00519397', '2017-03-12', 0.0, 74.0),\n",
       " ('USC00519397', '2017-03-13', 0.0, 71.0),\n",
       " ('USC00519397', '2017-03-14', 0.0, 71.0),\n",
       " ('USC00519397', '2017-03-15', 0.0, 71.0),\n",
       " ('USC00519397', '2017-03-16', 0.0, 70.0),\n",
       " ('USC00519397', '2017-03-17', 0.0, 72.0),\n",
       " ('USC00519397', '2017-03-18', 0.0, 69.0),\n",
       " ('USC00519397', '2017-03-19', 0.0, 73.0),\n",
       " ('USC00519397', '2017-03-20', 0.0, 75.0),\n",
       " ('USC00519397', '2017-03-21', 0.0, 75.0),\n",
       " ('USC00519397', '2017-03-22', 0.0, 74.0),\n",
       " ('USC00519397', '2017-03-23', 0.0, 70.0),\n",
       " ('USC00519397', '2017-03-24', 0.02, 73.0),\n",
       " ('USC00519397', '2017-03-25', 0.0, 76.0),\n",
       " ('USC00519397', '2017-03-26', 0.0, 76.0),\n",
       " ('USC00519397', '2017-03-27', 0.0, 75.0),\n",
       " ('USC00519397', '2017-03-28', 0.0, 77.0),\n",
       " ('USC00519397', '2017-03-29', 0.0, 76.0),\n",
       " ('USC00519397', '2017-03-30', 0.0, 77.0),\n",
       " ('USC00519397', '2017-03-31', 0.0, 76.0),\n",
       " ('USC00519397', '2017-04-01', 0.0, 76.0),\n",
       " ('USC00519397', '2017-04-02', 0.0, 76.0),\n",
       " ('USC00519397', '2017-04-03', 0.0, 77.0),\n",
       " ('USC00519397', '2017-04-04', 0.0, 76.0),\n",
       " ('USC00519397', '2017-04-05', 0.0, 78.0),\n",
       " ('USC00519397', '2017-04-06', 0.0, 77.0),\n",
       " ('USC00519397', '2017-04-07', 0.0, 77.0),\n",
       " ('USC00519397', '2017-04-08', 0.0, 77.0),\n",
       " ('USC00519397', '2017-04-09', 0.0, 72.0),\n",
       " ('USC00519397', '2017-04-10', 0.0, 75.0),\n",
       " ('USC00519397', '2017-04-11', 0.0, 79.0),\n",
       " ('USC00519397', '2017-04-12', 0.0, 78.0),\n",
       " ('USC00519397', '2017-04-13', 0.0, 77.0),\n",
       " ('USC00519397', '2017-04-14', 0.26, 75.0),\n",
       " ('USC00519397', '2017-04-15', 0.01, 73.0),\n",
       " ('USC00519397', '2017-04-16', 0.0, 74.0),\n",
       " ('USC00519397', '2017-04-17', 0.02, 74.0),\n",
       " ('USC00519397', '2017-04-18', 0.0, 75.0),\n",
       " ('USC00519397', '2017-04-19', 0.02, 74.0),\n",
       " ('USC00519397', '2017-04-20', 0.05, 78.0),\n",
       " ('USC00519397', '2017-04-21', 0.23, 73.0),\n",
       " ('USC00519397', '2017-04-22', 0.32, 76.0),\n",
       " ('USC00519397', '2017-04-23', 0.03, 77.0),\n",
       " ('USC00519397', '2017-04-24', 0.0, 77.0),\n",
       " ('USC00519397', '2017-04-25', 0.0, 77.0),\n",
       " ('USC00519397', '2017-04-26', 0.0, 77.0),\n",
       " ('USC00519397', '2017-04-27', 0.0, 78.0),\n",
       " ('USC00519397', '2017-04-28', 0.0, 76.0),\n",
       " ('USC00519397', '2017-04-29', 0.12, 72.0),\n",
       " ('USC00519397', '2017-04-30', 0.89, 63.0),\n",
       " ('USC00519397', '2017-05-01', 0.26, 75.0),\n",
       " ('USC00519397', '2017-05-02', 0.0, 78.0),\n",
       " ('USC00519397', '2017-05-03', 0.0, 78.0),\n",
       " ('USC00519397', '2017-05-04', 0.0, 78.0),\n",
       " ('USC00519397', '2017-05-05', 0.0, 79.0),\n",
       " ('USC00519397', '2017-05-06', 0.0, 79.0),\n",
       " ('USC00519397', '2017-05-07', 0.0, 79.0),\n",
       " ('USC00519397', '2017-05-08', 0.0, 77.0),\n",
       " ('USC00513117', '2017-05-09', 1.62, 74.0),\n",
       " ('USC00519397', '2017-05-10', 0.0, 78.0),\n",
       " ('USC00519397', '2017-05-11', 0.01, 78.0),\n",
       " ('USC00519397', '2017-05-12', 0.0, 79.0),\n",
       " ('USC00519397', '2017-05-13', 0.0, 79.0),\n",
       " ('USC00519397', '2017-05-14', 0.0, 77.0),\n",
       " ('USC00519397', '2017-05-15', 0.05, 78.0),\n",
       " ('USC00519397', '2017-05-16', 0.01, 78.0),\n",
       " ('USC00519397', '2017-05-17', 0.0, 78.0),\n",
       " ('USC00519397', '2017-05-18', 0.01, 73.0),\n",
       " ('USC00519397', '2017-05-19', 0.0, 76.0),\n",
       " ('USC00519397', '2017-05-20', 0.0, 78.0),\n",
       " ('USC00519397', '2017-05-21', 0.0, 76.0),\n",
       " ('USC00519397', '2017-05-22', 0.0, 77.0),\n",
       " ('USC00519397', '2017-05-23', 0.08, 87.0),\n",
       " ('USC00519397', '2017-05-24', 0.13, 77.0),\n",
       " ('USC00519397', '2017-05-25', 0.15, 77.0),\n",
       " ('USC00513117', '2017-05-26', 0.02, 73.0),\n",
       " ('USC00519397', '2017-05-27', 0.01, 74.0),\n",
       " ('USC00519397', '2017-05-28', 0.02, 76.0),\n",
       " ('USC00519397', '2017-05-29', 0.0, 75.0),\n",
       " ('USC00519397', '2017-05-30', 0.26, 76.0),\n",
       " ('USC00519397', '2017-05-31', 0.02, 79.0),\n",
       " ('USC00519397', '2017-06-01', 0.0, 79.0),\n",
       " ('USC00519397', '2017-06-02', 0.0, 79.0),\n",
       " ('USC00519397', '2017-06-03', 0.02, 79.0),\n",
       " ('USC00519397', '2017-06-04', 0.0, 79.0),\n",
       " ('USC00519397', '2017-06-05', 0.0, 80.0),\n",
       " ('USC00519397', '2017-06-06', 0.0, 79.0),\n",
       " ('USC00519397', '2017-06-07', 0.0, 79.0),\n",
       " ('USC00519397', '2017-06-08', 0.0, 80.0),\n",
       " ('USC00519397', '2017-06-09', 0.0, 80.0),\n",
       " ('USC00519397', '2017-06-10', 0.04, 77.0),\n",
       " ('USC00519397', '2017-06-11', 0.08, 79.0),\n",
       " ('USC00519397', '2017-06-12', 0.02, 83.0),\n",
       " ('USC00519397', '2017-06-13', 0.0, 80.0),\n",
       " ('USC00519397', '2017-06-14', 0.0, 80.0),\n",
       " ('USC00519397', '2017-06-15', 0.0, 78.0),\n",
       " ('USC00519397', '2017-06-16', 0.0, 79.0),\n",
       " ('USC00519397', '2017-06-17', 0.0, 80.0),\n",
       " ('USC00519397', '2017-06-18', 0.05, 77.0),\n",
       " ('USC00519397', '2017-06-19', 0.0, 80.0),\n",
       " ('USC00519397', '2017-06-20', 0.02, 78.0),\n",
       " ('USC00519397', '2017-06-21', 0.0, 79.0),\n",
       " ('USC00519397', '2017-06-22', 0.0, 80.0),\n",
       " ('USC00519397', '2017-06-23', 0.0, 78.0),\n",
       " ('USC00519397', '2017-06-24', 0.06, 80.0),\n",
       " ('USC00519397', '2017-06-25', 0.0, 80.0),\n",
       " ('USC00519397', '2017-06-26', 0.0, 81.0),\n",
       " ('USC00519397', '2017-06-27', 0.0, 80.0),\n",
       " ('USC00519397', '2017-06-28', 0.0, 79.0),\n",
       " ('USC00519397', '2017-06-29', 0.0, 79.0),\n",
       " ('USC00519397', '2017-06-30', 0.08, 75.0),\n",
       " ('USC00519397', '2017-07-01', 0.02, 80.0),\n",
       " ('USC00519397', '2017-07-02', 0.02, 80.0),\n",
       " ('USC00519397', '2017-07-03', 0.04, 78.0),\n",
       " ('USC00519397', '2017-07-04', 0.04, 80.0),\n",
       " ('USC00519397', '2017-07-05', 0.0, 80.0),\n",
       " ('USC00519397', '2017-07-06', 0.0, 81.0),\n",
       " ('USC00519397', '2017-07-07', 0.0, 79.0),\n",
       " ('USC00519397', '2017-07-08', 0.0, 80.0),\n",
       " ('USC00519397', '2017-07-09', 0.0, 80.0),\n",
       " ('USC00519397', '2017-07-10', 0.0, 80.0),\n",
       " ('USC00519397', '2017-07-11', 0.0, 78.0),\n",
       " ('USC00519397', '2017-07-12', 0.0, 81.0),\n",
       " ('USC00519397', '2017-07-13', 0.07, 79.0),\n",
       " ('USC00519397', '2017-07-14', 0.02, 81.0),\n",
       " ('USC00519397', '2017-07-15', 0.0, 80.0),\n",
       " ('USC00519397', '2017-07-16', 0.02, 78.0),\n",
       " ('USC00519397', '2017-07-17', 0.03, 80.0),\n",
       " ('USC00519397', '2017-07-18', 0.05, 80.0),\n",
       " ('USC00513117', '2017-07-19', 0.0, 78.0),\n",
       " ('USC00519397', '2017-07-20', 0.03, 80.0),\n",
       " ('USC00519397', '2017-07-21', 0.0, 80.0),\n",
       " ('USC00519397', '2017-07-22', 0.03, 81.0),\n",
       " ('USC00519397', '2017-07-23', 0.0, 81.0),\n",
       " ('USC00519397', '2017-07-24', 0.05, 78.0),\n",
       " ('USC00519397', '2017-07-25', 0.0, 80.0),\n",
       " ('USC00519397', '2017-07-26', 0.0, 82.0),\n",
       " ('USC00519397', '2017-07-27', 0.0, 79.0),\n",
       " ('USC00519397', '2017-07-28', 0.0, 81.0),\n",
       " ('USC00519397', '2017-07-29', 0.0, 81.0),\n",
       " ('USC00519397', '2017-07-30', 0.0, 81.0),\n",
       " ('USC00519397', '2017-07-31', 0.0, 80.0),\n",
       " ('USC00519397', '2017-08-01', 0.02, 77.0),\n",
       " ('USC00519397', '2017-08-02', 0.0, 73.0),\n",
       " ('USC00519397', '2017-08-03', 0.0, 79.0),\n",
       " ('USC00519397', '2017-08-04', 0.02, 80.0),\n",
       " ('USC00519397', '2017-08-05', 0.0, 81.0),\n",
       " ('USC00519397', '2017-08-06', 0.0, 80.0),\n",
       " ('USC00519397', '2017-08-07', 0.0, 80.0),\n",
       " ('USC00519397', '2017-08-08', 0.0, 80.0),\n",
       " ('USC00519397', '2017-08-09', 0.0, 80.0),\n",
       " ('USC00519397', '2017-08-10', 0.0, 81.0),\n",
       " ('USC00519397', '2017-08-11', 0.0, 78.0),\n",
       " ('USC00519397', '2017-08-12', 0.0, 80.0),\n",
       " ('USC00519397', '2017-08-13', 0.0, 81.0),\n",
       " ('USC00519397', '2017-08-14', 0.0, 79.0),\n",
       " ('USC00519397', '2017-08-15', 0.02, 78.0),\n",
       " ('USC00514830', '2017-08-16', 0.0, 82.0),\n",
       " ('USC00514830', '2017-08-17', 0.0, 78.0),\n",
       " ('USC00519397', '2017-08-18', 0.0, 80.0),\n",
       " ('USC00519397', '2017-08-19', 0.0, 79.0),\n",
       " ('USC00519397', '2017-08-20', 0.0, 81.0),\n",
       " ('USC00519397', '2017-08-21', 0.0, 81.0),\n",
       " ('USC00519397', '2017-08-22', 0.0, 82.0),\n",
       " ('USC00519397', '2017-08-23', 0.0, 81.0)]"
      ]
     },
     "execution_count": 78,
     "metadata": {},
     "output_type": "execute_result"
    }
   ],
   "source": [
    "# Perform a query to retrieve the data and precipitation scores\n",
    "sel=[Measurements.station,\n",
    "     Measurements.date,\n",
    "      Measurements.prcp,\n",
    "    Measurements.tobs]\n",
    "\n",
    "precip_year=session.query(*sel).filter((Measurements.date) >=query_date).group_by(Measurements.date).all()\n",
    "precip_year"
   ]
  },
  {
   "cell_type": "code",
   "execution_count": 84,
   "metadata": {},
   "outputs": [
    {
     "data": {
      "text/html": [
       "<div>\n",
       "<style scoped>\n",
       "    .dataframe tbody tr th:only-of-type {\n",
       "        vertical-align: middle;\n",
       "    }\n",
       "\n",
       "    .dataframe tbody tr th {\n",
       "        vertical-align: top;\n",
       "    }\n",
       "\n",
       "    .dataframe thead th {\n",
       "        text-align: right;\n",
       "    }\n",
       "</style>\n",
       "<table border=\"1\" class=\"dataframe\">\n",
       "  <thead>\n",
       "    <tr style=\"text-align: right;\">\n",
       "      <th></th>\n",
       "      <th>station</th>\n",
       "      <th>date</th>\n",
       "      <th>prcp</th>\n",
       "      <th>tobs</th>\n",
       "    </tr>\n",
       "  </thead>\n",
       "  <tbody>\n",
       "    <tr>\n",
       "      <th>0</th>\n",
       "      <td>USC00519397</td>\n",
       "      <td>2016-08-23</td>\n",
       "      <td>0.00</td>\n",
       "      <td>81.0</td>\n",
       "    </tr>\n",
       "    <tr>\n",
       "      <th>1</th>\n",
       "      <td>USC00519397</td>\n",
       "      <td>2016-08-24</td>\n",
       "      <td>0.08</td>\n",
       "      <td>79.0</td>\n",
       "    </tr>\n",
       "    <tr>\n",
       "      <th>2</th>\n",
       "      <td>USC00519397</td>\n",
       "      <td>2016-08-25</td>\n",
       "      <td>0.08</td>\n",
       "      <td>80.0</td>\n",
       "    </tr>\n",
       "    <tr>\n",
       "      <th>3</th>\n",
       "      <td>USC00519397</td>\n",
       "      <td>2016-08-26</td>\n",
       "      <td>0.00</td>\n",
       "      <td>79.0</td>\n",
       "    </tr>\n",
       "    <tr>\n",
       "      <th>4</th>\n",
       "      <td>USC00519397</td>\n",
       "      <td>2016-08-27</td>\n",
       "      <td>0.00</td>\n",
       "      <td>77.0</td>\n",
       "    </tr>\n",
       "    <tr>\n",
       "      <th>...</th>\n",
       "      <td>...</td>\n",
       "      <td>...</td>\n",
       "      <td>...</td>\n",
       "      <td>...</td>\n",
       "    </tr>\n",
       "    <tr>\n",
       "      <th>361</th>\n",
       "      <td>USC00519397</td>\n",
       "      <td>2017-08-19</td>\n",
       "      <td>0.00</td>\n",
       "      <td>79.0</td>\n",
       "    </tr>\n",
       "    <tr>\n",
       "      <th>362</th>\n",
       "      <td>USC00519397</td>\n",
       "      <td>2017-08-20</td>\n",
       "      <td>0.00</td>\n",
       "      <td>81.0</td>\n",
       "    </tr>\n",
       "    <tr>\n",
       "      <th>363</th>\n",
       "      <td>USC00519397</td>\n",
       "      <td>2017-08-21</td>\n",
       "      <td>0.00</td>\n",
       "      <td>81.0</td>\n",
       "    </tr>\n",
       "    <tr>\n",
       "      <th>364</th>\n",
       "      <td>USC00519397</td>\n",
       "      <td>2017-08-22</td>\n",
       "      <td>0.00</td>\n",
       "      <td>82.0</td>\n",
       "    </tr>\n",
       "    <tr>\n",
       "      <th>365</th>\n",
       "      <td>USC00519397</td>\n",
       "      <td>2017-08-23</td>\n",
       "      <td>0.00</td>\n",
       "      <td>81.0</td>\n",
       "    </tr>\n",
       "  </tbody>\n",
       "</table>\n",
       "<p>366 rows × 4 columns</p>\n",
       "</div>"
      ],
      "text/plain": [
       "         station        date  prcp  tobs\n",
       "0    USC00519397  2016-08-23  0.00  81.0\n",
       "1    USC00519397  2016-08-24  0.08  79.0\n",
       "2    USC00519397  2016-08-25  0.08  80.0\n",
       "3    USC00519397  2016-08-26  0.00  79.0\n",
       "4    USC00519397  2016-08-27  0.00  77.0\n",
       "..           ...         ...   ...   ...\n",
       "361  USC00519397  2017-08-19  0.00  79.0\n",
       "362  USC00519397  2017-08-20  0.00  81.0\n",
       "363  USC00519397  2017-08-21  0.00  81.0\n",
       "364  USC00519397  2017-08-22  0.00  82.0\n",
       "365  USC00519397  2017-08-23  0.00  81.0\n",
       "\n",
       "[366 rows x 4 columns]"
      ]
     },
     "execution_count": 84,
     "metadata": {},
     "output_type": "execute_result"
    }
   ],
   "source": [
    "# Save the query results as a Pandas DataFrame and set the index to the date column\n",
    "df=pd.DataFrame(precip_year)\n",
    "df"
   ]
  },
  {
   "cell_type": "code",
   "execution_count": 86,
   "metadata": {},
   "outputs": [
    {
     "data": {
      "text/html": [
       "<div>\n",
       "<style scoped>\n",
       "    .dataframe tbody tr th:only-of-type {\n",
       "        vertical-align: middle;\n",
       "    }\n",
       "\n",
       "    .dataframe tbody tr th {\n",
       "        vertical-align: top;\n",
       "    }\n",
       "\n",
       "    .dataframe thead th {\n",
       "        text-align: right;\n",
       "    }\n",
       "</style>\n",
       "<table border=\"1\" class=\"dataframe\">\n",
       "  <thead>\n",
       "    <tr style=\"text-align: right;\">\n",
       "      <th></th>\n",
       "      <th>prcp</th>\n",
       "      <th>date</th>\n",
       "    </tr>\n",
       "  </thead>\n",
       "  <tbody>\n",
       "    <tr>\n",
       "      <th>0</th>\n",
       "      <td>0.00</td>\n",
       "      <td>2016-08-23</td>\n",
       "    </tr>\n",
       "    <tr>\n",
       "      <th>1</th>\n",
       "      <td>0.08</td>\n",
       "      <td>2016-08-24</td>\n",
       "    </tr>\n",
       "    <tr>\n",
       "      <th>2</th>\n",
       "      <td>0.08</td>\n",
       "      <td>2016-08-25</td>\n",
       "    </tr>\n",
       "    <tr>\n",
       "      <th>3</th>\n",
       "      <td>0.00</td>\n",
       "      <td>2016-08-26</td>\n",
       "    </tr>\n",
       "    <tr>\n",
       "      <th>4</th>\n",
       "      <td>0.00</td>\n",
       "      <td>2016-08-27</td>\n",
       "    </tr>\n",
       "    <tr>\n",
       "      <th>...</th>\n",
       "      <td>...</td>\n",
       "      <td>...</td>\n",
       "    </tr>\n",
       "    <tr>\n",
       "      <th>361</th>\n",
       "      <td>0.00</td>\n",
       "      <td>2017-08-19</td>\n",
       "    </tr>\n",
       "    <tr>\n",
       "      <th>362</th>\n",
       "      <td>0.00</td>\n",
       "      <td>2017-08-20</td>\n",
       "    </tr>\n",
       "    <tr>\n",
       "      <th>363</th>\n",
       "      <td>0.00</td>\n",
       "      <td>2017-08-21</td>\n",
       "    </tr>\n",
       "    <tr>\n",
       "      <th>364</th>\n",
       "      <td>0.00</td>\n",
       "      <td>2017-08-22</td>\n",
       "    </tr>\n",
       "    <tr>\n",
       "      <th>365</th>\n",
       "      <td>0.00</td>\n",
       "      <td>2017-08-23</td>\n",
       "    </tr>\n",
       "  </tbody>\n",
       "</table>\n",
       "<p>366 rows × 2 columns</p>\n",
       "</div>"
      ],
      "text/plain": [
       "     prcp        date\n",
       "0    0.00  2016-08-23\n",
       "1    0.08  2016-08-24\n",
       "2    0.08  2016-08-25\n",
       "3    0.00  2016-08-26\n",
       "4    0.00  2016-08-27\n",
       "..    ...         ...\n",
       "361  0.00  2017-08-19\n",
       "362  0.00  2017-08-20\n",
       "363  0.00  2017-08-21\n",
       "364  0.00  2017-08-22\n",
       "365  0.00  2017-08-23\n",
       "\n",
       "[366 rows x 2 columns]"
      ]
     },
     "execution_count": 86,
     "metadata": {},
     "output_type": "execute_result"
    }
   ],
   "source": [
    "sort_df=df[[\"prcp\",\"date\"]]\n",
    "sort_df"
   ]
  },
  {
   "cell_type": "code",
   "execution_count": 107,
   "metadata": {},
   "outputs": [
    {
     "data": {
      "image/png": "[encoded data removed]",
      "text/plain": [
       "<Figure size 432x288 with 1 Axes>"
      ]
     },
     "metadata": {},
     "output_type": "display_data"
    },
    {
     "data": {
      "text/plain": [
       "<Figure size 432x288 with 0 Axes>"
      ]
     },
     "metadata": {},
     "output_type": "display_data"
    }
   ],
   "source": [
    "# Use Pandas Plotting with Matplotlib to plot the data\n",
    "sort_df.plot()\n",
    "plt.title(\"Precipiation per day\")\n",
    "plt.ylabel(\"Inches\")\n",
    "plt.xlabel(\"Dates\")\n",
    "plt.xticks(rotation=90)\n",
    "plt.show()\n",
    "plt.tight_layout()"
   ]
  },
  {
   "cell_type": "code",
   "execution_count": 92,
   "metadata": {},
   "outputs": [
    {
     "data": {
      "text/html": [
       "<div>\n",
       "<style scoped>\n",
       "    .dataframe tbody tr th:only-of-type {\n",
       "        vertical-align: middle;\n",
       "    }\n",
       "\n",
       "    .dataframe tbody tr th {\n",
       "        vertical-align: top;\n",
       "    }\n",
       "\n",
       "    .dataframe thead th {\n",
       "        text-align: right;\n",
       "    }\n",
       "</style>\n",
       "<table border=\"1\" class=\"dataframe\">\n",
       "  <thead>\n",
       "    <tr style=\"text-align: right;\">\n",
       "      <th></th>\n",
       "      <th>prcp</th>\n",
       "    </tr>\n",
       "  </thead>\n",
       "  <tbody>\n",
       "    <tr>\n",
       "      <th>count</th>\n",
       "      <td>364.000000</td>\n",
       "    </tr>\n",
       "    <tr>\n",
       "      <th>mean</th>\n",
       "      <td>0.048709</td>\n",
       "    </tr>\n",
       "    <tr>\n",
       "      <th>std</th>\n",
       "      <td>0.204930</td>\n",
       "    </tr>\n",
       "    <tr>\n",
       "      <th>min</th>\n",
       "      <td>0.000000</td>\n",
       "    </tr>\n",
       "    <tr>\n",
       "      <th>25%</th>\n",
       "      <td>0.000000</td>\n",
       "    </tr>\n",
       "    <tr>\n",
       "      <th>50%</th>\n",
       "      <td>0.000000</td>\n",
       "    </tr>\n",
       "    <tr>\n",
       "      <th>75%</th>\n",
       "      <td>0.020000</td>\n",
       "    </tr>\n",
       "    <tr>\n",
       "      <th>max</th>\n",
       "      <td>2.620000</td>\n",
       "    </tr>\n",
       "  </tbody>\n",
       "</table>\n",
       "</div>"
      ],
      "text/plain": [
       "             prcp\n",
       "count  364.000000\n",
       "mean     0.048709\n",
       "std      0.204930\n",
       "min      0.000000\n",
       "25%      0.000000\n",
       "50%      0.000000\n",
       "75%      0.020000\n",
       "max      2.620000"
      ]
     },
     "execution_count": 92,
     "metadata": {},
     "output_type": "execute_result"
    }
   ],
   "source": [
    "# Use Pandas to calcualte the summary statistics for the precipitation data\n",
    "sort_df.describe()"
   ]
  },
  {
   "cell_type": "markdown",
   "metadata": {},
   "source": [
    "# Exploratory Station Analysis"
   ]
  },
  {
   "cell_type": "code",
   "execution_count": 99,
   "metadata": {},
   "outputs": [
    {
     "data": {
      "text/plain": [
       "3"
      ]
     },
     "execution_count": 99,
     "metadata": {},
     "output_type": "execute_result"
    }
   ],
   "source": [
    "# Design a query to calculate the total number stations in the dataset\n",
    "df['station'].nunique()"
   ]
  },
  {
   "cell_type": "code",
   "execution_count": 102,
   "metadata": {},
   "outputs": [
    {
     "data": {
      "text/plain": [
       "USC00519397    361\n",
       "USC00513117      3\n",
       "USC00514830      2\n",
       "Name: station, dtype: int64"
      ]
     },
     "execution_count": 102,
     "metadata": {},
     "output_type": "execute_result"
    }
   ],
   "source": [
    "# Design a query to find the most active stations (i.e. what stations have the most rows?)\n",
    "# List the stations and the counts in descending order.\n",
    "df['station'].value_counts()"
   ]
  },
  {
   "cell_type": "code",
   "execution_count": 112,
   "metadata": {},
   "outputs": [
    {
     "data": {
      "text/html": [
       "<div>\n",
       "<style scoped>\n",
       "    .dataframe tbody tr th:only-of-type {\n",
       "        vertical-align: middle;\n",
       "    }\n",
       "\n",
       "    .dataframe tbody tr th {\n",
       "        vertical-align: top;\n",
       "    }\n",
       "\n",
       "    .dataframe thead th {\n",
       "        text-align: right;\n",
       "    }\n",
       "</style>\n",
       "<table border=\"1\" class=\"dataframe\">\n",
       "  <thead>\n",
       "    <tr style=\"text-align: right;\">\n",
       "      <th></th>\n",
       "      <th>station</th>\n",
       "      <th>date</th>\n",
       "      <th>prcp</th>\n",
       "      <th>tobs</th>\n",
       "    </tr>\n",
       "  </thead>\n",
       "  <tbody>\n",
       "    <tr>\n",
       "      <th>0</th>\n",
       "      <td>USC00519397</td>\n",
       "      <td>2016-08-23</td>\n",
       "      <td>0.00</td>\n",
       "      <td>81.0</td>\n",
       "    </tr>\n",
       "    <tr>\n",
       "      <th>1</th>\n",
       "      <td>USC00519397</td>\n",
       "      <td>2016-08-24</td>\n",
       "      <td>0.08</td>\n",
       "      <td>79.0</td>\n",
       "    </tr>\n",
       "    <tr>\n",
       "      <th>2</th>\n",
       "      <td>USC00519397</td>\n",
       "      <td>2016-08-25</td>\n",
       "      <td>0.08</td>\n",
       "      <td>80.0</td>\n",
       "    </tr>\n",
       "    <tr>\n",
       "      <th>3</th>\n",
       "      <td>USC00519397</td>\n",
       "      <td>2016-08-26</td>\n",
       "      <td>0.00</td>\n",
       "      <td>79.0</td>\n",
       "    </tr>\n",
       "    <tr>\n",
       "      <th>4</th>\n",
       "      <td>USC00519397</td>\n",
       "      <td>2016-08-27</td>\n",
       "      <td>0.00</td>\n",
       "      <td>77.0</td>\n",
       "    </tr>\n",
       "  </tbody>\n",
       "</table>\n",
       "</div>"
      ],
      "text/plain": [
       "       station        date  prcp  tobs\n",
       "0  USC00519397  2016-08-23  0.00  81.0\n",
       "1  USC00519397  2016-08-24  0.08  79.0\n",
       "2  USC00519397  2016-08-25  0.08  80.0\n",
       "3  USC00519397  2016-08-26  0.00  79.0\n",
       "4  USC00519397  2016-08-27  0.00  77.0"
      ]
     },
     "execution_count": 112,
     "metadata": {},
     "output_type": "execute_result"
    }
   ],
   "source": [
    "#Using iloc to isolate station id\n",
    "station_df=df.loc[df['station']=='USC00519397']\n",
    "station_df.head()"
   ]
  },
  {
   "cell_type": "code",
   "execution_count": 116,
   "metadata": {},
   "outputs": [
    {
     "data": {
      "text/plain": [
       "station\n",
       "USC00519397    60.0\n",
       "Name: tobs, dtype: float64"
      ]
     },
     "execution_count": 116,
     "metadata": {},
     "output_type": "execute_result"
    }
   ],
   "source": [
    "# Using the most active station id from the previous query, calculate the lowest, highest, and average temperature.\n",
    "mean_df=station_df.groupby('station').mean()['tobs']\n",
    "max_df=station_df.groupby('station').max()['tobs']\n",
    "min_df=station_df.groupby('station').min()['tobs']\n"
   ]
  },
  {
   "cell_type": "code",
   "execution_count": 139,
   "metadata": {},
   "outputs": [
    {
     "data": {
      "image/png": "[encoded data removed]",
      "text/plain": [
       "<Figure size 432x288 with 1 Axes>"
      ]
     },
     "metadata": {},
     "output_type": "display_data"
    },
    {
     "data": {
      "text/plain": [
       "<Figure size 432x288 with 0 Axes>"
      ]
     },
     "metadata": {},
     "output_type": "display_data"
    }
   ],
   "source": [
    "# Using the most active station id\n",
    "# Query the last 12 months of temperature observation data for this station and plot the results as a histogram\n",
    "temp_df=station_df[['tobs','station']]\n",
    "temp_df.plot(kind=\"hist\")\n",
    "plt.title(\"Station Temperature of the last year\")\n",
    "plt.ylabel(\"Frequency\")\n",
    "plt.xlabel(\"Temperature\")\n",
    "plt.xticks(rotation=90)\n",
    "plt.show()\n",
    "plt.tight_layout()"
   ]
  },
  {
   "cell_type": "markdown",
   "metadata": {},
   "source": [
    "# Close session"
   ]
  },
  {
   "cell_type": "code",
   "execution_count": null,
   "metadata": {},
   "outputs": [],
   "source": [
    "# Close Session\n",
    "session.close()"
   ]
  },
  {
   "cell_type": "code",
   "execution_count": null,
   "metadata": {},
   "outputs": [],
   "source": []
  }
 ],
 "metadata": {
  "anaconda-cloud": {},
  "kernel_info": {
   "name": "python3"
  },
  "kernelspec": {
   "display_name": "Python 3",
   "language": "python",
   "name": "python3"
  },
  "language_info": {
   "codemirror_mode": {
    "name": "ipython",
    "version": 3
   },
   "file_extension": ".py",
   "mimetype": "text/x-python",
   "name": "python",
   "nbconvert_exporter": "python",
   "pygments_lexer": "ipython3",
   "version": "3.8.5"
  },
  "nteract": {
   "version": "0.12.3"
  },
  "varInspector": {
   "cols": {
    "lenName": 16,
    "lenType": 16,
    "lenVar": 40
   },
   "kernels_config": {
    "python": {
     "delete_cmd_postfix": "",
     "delete_cmd_prefix": "del ",
     "library": "var_list.py",
     "varRefreshCmd": "print(var_dic_list())"
    },
    "r": {
     "delete_cmd_postfix": ") ",
     "delete_cmd_prefix": "rm(",
     "library": "var_list.r",
     "varRefreshCmd": "cat(var_dic_list()) "
    }
   },
   "types_to_exclude": [
    "module",
    "function",
    "builtin_function_or_method",
    "instance",
    "_Feature"
   ],
   "window_display": false
  }
 },
 "nbformat": 4,
 "nbformat_minor": 2
}
